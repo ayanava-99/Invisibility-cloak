{
 "cells": [
  {
   "cell_type": "markdown",
   "metadata": {},
   "source": [
    "# # Invisible Cloak using OpenCV"
   ]
  },
  {
   "cell_type": "code",
   "execution_count": 1,
   "metadata": {},
   "outputs": [],
   "source": [
    "import cv2\n",
    "import numpy as np\n",
    "import time"
   ]
  },
  {
   "cell_type": "code",
   "execution_count": null,
   "metadata": {},
   "outputs": [],
   "source": [
    "\n",
    "cap = cv2.VideoCapture(0)\n",
    "\n",
    "time.sleep(3)\n",
    "count = 0\n",
    "background = 0\n",
    "\n",
    "for i in range(60):\n",
    "    ret,background = cap.read()\n",
    "background = np.flip(background,axis=1)\n",
    "\n",
    "#when the webcam is opened, we are reading the images from the webcam\n",
    "while(cap.isOpened()):\n",
    "    ret, img = cap.read()\n",
    "    if not ret:\n",
    "        break\n",
    "    count+=1\n",
    "    img = np.flip(img,axis=1)\n",
    "    \n",
    "    \n",
    "    hsv = cv2.cvtColor(img, cv2.COLOR_BGR2HSV)\n",
    "\n",
    "   \n",
    "    lower_red = np.array([110,50,50])\n",
    "    upper_red = np.array([120,255,255])\n",
    "    mask1 = cv2.inRange(hsv,lower_red,upper_red)\n",
    "\n",
    "    lower_red = np.array([120,50,50])\n",
    "    upper_red = np.array([130,255,255])\n",
    "    mask2 = cv2.inRange(hsv,lower_red,upper_red)\n",
    "\n",
    "    mask1 = mask1+mask2\n",
    "\n",
    "    \n",
    "    mask1 = cv2.morphologyEx(mask1, cv2.MORPH_OPEN, np.ones((3,3),np.uint8),iterations=2)\n",
    "    mask1 = cv2.dilate(mask1,np.ones((3,3),np.uint8),iterations = 1)\n",
    "    mask2 = cv2.bitwise_not(mask1)\n",
    "\n",
    "  \n",
    "    res1 = cv2.bitwise_and(background,background,mask=mask1)\n",
    "    res2 = cv2.bitwise_and(img,img,mask=mask2)\n",
    "    final_output = cv2.addWeighted(res1,1,res2,1,0)\n",
    "\n",
    "    cv2.imshow(\"Cloak Active!!\",final_output)\n",
    "    k = cv2.waitKey(10)\n",
    "    if k == 27:\n",
    "        break"
   ]
  },
  {
   "cell_type": "code",
   "execution_count": null,
   "metadata": {},
   "outputs": [],
   "source": []
  }
 ],
 "metadata": {
  "kernelspec": {
   "display_name": "Python 3",
   "language": "python",
   "name": "python3"
  },
  "language_info": {
   "codemirror_mode": {
    "name": "ipython",
    "version": 3
   },
   "file_extension": ".py",
   "mimetype": "text/x-python",
   "name": "python",
   "nbconvert_exporter": "python",
   "pygments_lexer": "ipython3",
   "version": "3.7.3"
  }
 },
 "nbformat": 4,
 "nbformat_minor": 2
}
